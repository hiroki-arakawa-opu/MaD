{
 "cells": [
  {
   "cell_type": "markdown",
   "metadata": {},
   "source": [
    "# Week 1 : 課題2\n",
    "\n",
    "## 課題\n",
    "\n",
    "下記の問題 1, 2に答えなさい。\n",
    "\n",
    "### 提出方法\n",
    "\n",
    "MS Teams の該当する課題にファイルを添付して提出する  \n",
    "\n",
    "### 締切\n",
    "\n",
    "2020/5/8 (授業時間内）"
   ]
  },
  {
   "cell_type": "markdown",
   "metadata": {},
   "source": [
    "## 問題 1\n",
    "\n",
    "以下のコマンドを実行した結果をレポートしなさい。\n",
    "\n",
    "```python\n",
    "import numpy as np\n",
    "np.__version__\n",
    "```\n",
    "\n",
    "エラーが出る場合は Anaconda をインストールできていないので，セットアップからやり直すこと。"
   ]
  },
  {
   "cell_type": "code",
   "execution_count": null,
   "metadata": {},
   "outputs": [],
   "source": []
  },
  {
   "cell_type": "markdown",
   "metadata": {},
   "source": [
    "## 問題 2\n",
    "\n",
    "Python で次の式を計算しなさい。\n",
    "\n",
    "$$\n",
    "1 + \\frac{1}{2 + \\dfrac{1}{2 + \\dfrac{1}{2}}}\n",
    "$$"
   ]
  },
  {
   "cell_type": "code",
   "execution_count": null,
   "metadata": {},
   "outputs": [],
   "source": []
  }
 ],
 "metadata": {
  "kernelspec": {
   "display_name": "Python 3",
   "language": "python",
   "name": "python3"
  },
  "language_info": {
   "codemirror_mode": {
    "name": "ipython",
    "version": 3
   },
   "file_extension": ".py",
   "mimetype": "text/x-python",
   "name": "python",
   "nbconvert_exporter": "python",
   "pygments_lexer": "ipython3",
   "version": "3.7.4"
  }
 },
 "nbformat": 4,
 "nbformat_minor": 4
}
