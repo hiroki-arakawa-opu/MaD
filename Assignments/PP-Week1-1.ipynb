{
 "cells": [
  {
   "cell_type": "markdown",
   "metadata": {},
   "source": [
    "# Week 1 : 課題1\n",
    "\n",
    "## 課題\n",
    "\n",
    "下記の問題 1, 2に答えなさい。\n",
    "\n",
    "### 提出方法\n",
    "\n",
    "MS Teams の該当する課題にファイルを添付して提出する  \n",
    "\n",
    "### 締切\n",
    "\n",
    "2020/5/8 (授業時間内）"
   ]
  },
  {
   "cell_type": "markdown",
   "metadata": {},
   "source": [
    "## 問題 1\n",
    "\n",
    "時間変化する変数 $x$ と $y$ がそれぞれ，$g_x$ と $g_y$ の率で成長している。すなわち，\n",
    "\n",
    "$$\n",
    "\\begin{aligned}\n",
    "    x_{t+1} &= (1 + g_x) x_t,\\\\\n",
    "    y_{t+1} &= (1 + g_y) y_t, \\quad t = 0, 1, 2, \\dots\n",
    "\\end{aligned}\n",
    "$$\n",
    "\n",
    "このとき\n",
    "\n",
    "$$\n",
    "z_t = x_t y_t\n",
    "$$\n",
    "\n",
    "で定義される変数 $z$ の成長率を計算しなさい。"
   ]
  },
  {
   "cell_type": "markdown",
   "metadata": {},
   "source": [
    "#### [解答]\n",
    "\n"
   ]
  },
  {
   "cell_type": "markdown",
   "metadata": {},
   "source": [
    "## 問題 2\n",
    "\n",
    "問題1 において，成長率の積 $g_x g_y$ が非常に小さいと仮定できるとき，変数の積 $z$ の成長率についてどのようなことが言えるか。説明しなさい。"
   ]
  },
  {
   "cell_type": "markdown",
   "metadata": {},
   "source": [
    "#### [解答]\n",
    "\n",
    "\n"
   ]
  }
 ],
 "metadata": {
  "kernelspec": {
   "display_name": "Python 3",
   "language": "python",
   "name": "python3"
  },
  "language_info": {
   "codemirror_mode": {
    "name": "ipython",
    "version": 3
   },
   "file_extension": ".py",
   "mimetype": "text/x-python",
   "name": "python",
   "nbconvert_exporter": "python",
   "pygments_lexer": "ipython3",
   "version": "3.7.4"
  }
 },
 "nbformat": 4,
 "nbformat_minor": 4
}
