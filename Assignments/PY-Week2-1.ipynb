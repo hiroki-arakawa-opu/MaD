{
 "cells": [
  {
   "cell_type": "markdown",
   "metadata": {},
   "source": [
    "# Week 2: 課題\n",
    "\n",
    "## 課題\n",
    "\n",
    "下記の問題 1, 2に答えなさい。\n",
    "\n",
    "### 提出方法\n",
    "\n",
    "MS Teams の該当する課題にファイルを添付して提出する  \n",
    "\n",
    "### 締切\n",
    "\n",
    "2020/5/20"
   ]
  },
  {
   "cell_type": "markdown",
   "metadata": {},
   "source": [
    "## 問題 1\n",
    "\n",
    "$y_0 = 500$, $y_1 = 540$, $y_2 = 590$, $y_3 = 640$, $y_4 = 700$ とする。この期間の平均成長率を計算しなさい。\n",
    "\n",
    "[解答]"
   ]
  },
  {
   "cell_type": "code",
   "execution_count": null,
   "metadata": {},
   "outputs": [],
   "source": []
  },
  {
   "cell_type": "markdown",
   "metadata": {},
   "source": [
    "## 問題 2\n",
    "\n",
    "ある連続する期間の前期比成長率が $g_1 = 0.01$, $g_2 = 0.02$, $g_3 = 0.08$, $g_4 = 0.08$, $g_5 = -0.01$ だったとする。この期間の平均成長率を計算しなさい。また，近似公式を用いたときの結果と比較して，誤差を評価しなさい。（誤差の大きさが正確な値の何％か？）"
   ]
  },
  {
   "cell_type": "code",
   "execution_count": null,
   "metadata": {},
   "outputs": [],
   "source": []
  }
 ],
 "metadata": {
  "kernelspec": {
   "display_name": "Python 3",
   "language": "python",
   "name": "python3"
  },
  "language_info": {
   "codemirror_mode": {
    "name": "ipython",
    "version": 3
   },
   "file_extension": ".py",
   "mimetype": "text/x-python",
   "name": "python",
   "nbconvert_exporter": "python",
   "pygments_lexer": "ipython3",
   "version": "3.7.4"
  }
 },
 "nbformat": 4,
 "nbformat_minor": 4
}
